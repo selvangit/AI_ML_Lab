{
  "nbformat": 4,
  "nbformat_minor": 0,
  "metadata": {
    "colab": {
      "name": "KerasApi_mnist_convnet",
      "provenance": [],
      "collapsed_sections": [],
      "toc_visible": true,
      "include_colab_link": true
    },
    "kernelspec": {
      "display_name": "Python 3",
      "language": "python",
      "name": "python3"
    },
    "language_info": {
      "codemirror_mode": {
        "name": "ipython",
        "version": 3
      },
      "file_extension": ".py",
      "mimetype": "text/x-python",
      "name": "python",
      "nbconvert_exporter": "python",
      "pygments_lexer": "ipython3",
      "version": "3.7.0"
    }
  },
  "cells": [
    {
      "cell_type": "markdown",
      "metadata": {
        "id": "view-in-github",
        "colab_type": "text"
      },
      "source": [
        "<a href=\"https://colab.research.google.com/github/selvangit/AI_ML_Lab/blob/master/KerasApi_mnist_convnet.ipynb\" target=\"_parent\"><img src=\"https://colab.research.google.com/assets/colab-badge.svg\" alt=\"Open In Colab\"/></a>"
      ]
    },
    {
      "cell_type": "markdown",
      "metadata": {
        "colab_type": "text",
        "id": "NS6Ba11xP4MS"
      },
      "source": [
        "# MNIST convnet\n",
        "\n",
        "**Author:** [fchollet](https://twitter.com/fchollet)<br>\n",
        "**Date created:** 2015/06/19<br>\n",
        "**Last modified:** 2020/04/21<br>\n",
        "**Description:** A simple convnet that achieves ~99% test accuracy on MNIST."
      ]
    },
    {
      "cell_type": "markdown",
      "metadata": {
        "colab_type": "text",
        "id": "wdqNwH71P4MT"
      },
      "source": [
        "## Setup"
      ]
    },
    {
      "cell_type": "code",
      "metadata": {
        "colab_type": "code",
        "id": "nKB6JgjPP4MT",
        "colab": {}
      },
      "source": [
        "\n",
        "import numpy as np\n",
        "from tensorflow import keras\n",
        "from tensorflow.keras import layers\n"
      ],
      "execution_count": null,
      "outputs": []
    },
    {
      "cell_type": "markdown",
      "metadata": {
        "colab_type": "text",
        "id": "GQgNt_hbP4MW"
      },
      "source": [
        "## Prepare the data"
      ]
    },
    {
      "cell_type": "code",
      "metadata": {
        "colab_type": "code",
        "id": "HLtSYWUQP4MX",
        "colab": {
          "base_uri": "https://localhost:8080/",
          "height": 102
        },
        "outputId": "2067051d-cf57-4c2f-9f8b-00d5b5e16313"
      },
      "source": [
        "\n",
        "# Model / data parameters\n",
        "num_classes = 10\n",
        "input_shape = (28, 28, 1)\n",
        "\n",
        "# the data, split between train and test sets\n",
        "(x_train, y_train), (x_test, y_test) = keras.datasets.mnist.load_data()\n",
        "\n",
        "# Scale images to the [0, 1] range\n",
        "x_train = x_train.astype(\"float32\") / 255\n",
        "x_test = x_test.astype(\"float32\") / 255\n",
        "# Make sure images have shape (28, 28, 1)\n",
        "x_train = np.expand_dims(x_train, -1)\n",
        "x_test = np.expand_dims(x_test, -1)\n",
        "print(\"x_train shape:\", x_train.shape)\n",
        "print(x_train.shape[0], \"train samples\")\n",
        "print(x_test.shape[0], \"test samples\")\n",
        "\n",
        "\n",
        "# convert class vectors to binary class matrices\n",
        "y_train = keras.utils.to_categorical(y_train, num_classes)\n",
        "y_test = keras.utils.to_categorical(y_test, num_classes)\n"
      ],
      "execution_count": null,
      "outputs": [
        {
          "output_type": "stream",
          "text": [
            "Downloading data from https://storage.googleapis.com/tensorflow/tf-keras-datasets/mnist.npz\n",
            "11493376/11490434 [==============================] - 0s 0us/step\n",
            "x_train shape: (60000, 28, 28, 1)\n",
            "60000 train samples\n",
            "10000 test samples\n"
          ],
          "name": "stdout"
        }
      ]
    },
    {
      "cell_type": "markdown",
      "metadata": {
        "colab_type": "text",
        "id": "V8o2dXquP4MZ"
      },
      "source": [
        "## Build the model"
      ]
    },
    {
      "cell_type": "code",
      "metadata": {
        "colab_type": "code",
        "id": "HgaZGdqRP4Ma",
        "colab": {
          "base_uri": "https://localhost:8080/",
          "height": 391
        },
        "outputId": "141c835d-9a23-44e4-fe52-2d0ca0ed934d"
      },
      "source": [
        "\n",
        "model = keras.Sequential(\n",
        "    [\n",
        "        keras.Input(shape=input_shape),\n",
        "        layers.Conv2D(32, kernel_size=(3, 3), activation=\"relu\"),\n",
        "        layers.MaxPooling2D(pool_size=(2, 2)),\n",
        "        layers.Conv2D(64, kernel_size=(3, 3), activation=\"relu\"),\n",
        "        layers.MaxPooling2D(pool_size=(2, 2)),\n",
        "        layers.Flatten(),\n",
        "        layers.Dropout(0.5),\n",
        "        layers.Dense(num_classes, activation=\"softmax\"),\n",
        "    ]\n",
        ")\n",
        "\n",
        "model.summary()\n"
      ],
      "execution_count": null,
      "outputs": [
        {
          "output_type": "stream",
          "text": [
            "Model: \"sequential\"\n",
            "_________________________________________________________________\n",
            "Layer (type)                 Output Shape              Param #   \n",
            "=================================================================\n",
            "conv2d (Conv2D)              (None, 26, 26, 32)        320       \n",
            "_________________________________________________________________\n",
            "max_pooling2d (MaxPooling2D) (None, 13, 13, 32)        0         \n",
            "_________________________________________________________________\n",
            "conv2d_1 (Conv2D)            (None, 11, 11, 64)        18496     \n",
            "_________________________________________________________________\n",
            "max_pooling2d_1 (MaxPooling2 (None, 5, 5, 64)          0         \n",
            "_________________________________________________________________\n",
            "flatten (Flatten)            (None, 1600)              0         \n",
            "_________________________________________________________________\n",
            "dropout (Dropout)            (None, 1600)              0         \n",
            "_________________________________________________________________\n",
            "dense (Dense)                (None, 10)                16010     \n",
            "=================================================================\n",
            "Total params: 34,826\n",
            "Trainable params: 34,826\n",
            "Non-trainable params: 0\n",
            "_________________________________________________________________\n"
          ],
          "name": "stdout"
        }
      ]
    },
    {
      "cell_type": "markdown",
      "metadata": {
        "colab_type": "text",
        "id": "umrJsNyVP4Mc"
      },
      "source": [
        "## Train the model"
      ]
    },
    {
      "cell_type": "code",
      "metadata": {
        "colab_type": "code",
        "id": "fCyByXirP4Md",
        "colab": {
          "base_uri": "https://localhost:8080/",
          "height": 564
        },
        "outputId": "92d7fac1-1daa-4d5b-8ec4-791432386657"
      },
      "source": [
        "\n",
        "batch_size = 128\n",
        "epochs = 15\n",
        "\n",
        "model.compile(loss=\"categorical_crossentropy\", optimizer=\"adam\", metrics=[\"accuracy\"])\n",
        "\n",
        "model.fit(x_train, y_train, batch_size=batch_size, epochs=epochs, validation_split=0.1)\n"
      ],
      "execution_count": null,
      "outputs": [
        {
          "output_type": "stream",
          "text": [
            "Epoch 1/15\n",
            "422/422 [==============================] - 39s 92ms/step - loss: 0.3722 - accuracy: 0.8876 - val_loss: 0.0894 - val_accuracy: 0.9753\n",
            "Epoch 2/15\n",
            "422/422 [==============================] - 40s 94ms/step - loss: 0.1177 - accuracy: 0.9643 - val_loss: 0.0607 - val_accuracy: 0.9833\n",
            "Epoch 3/15\n",
            "422/422 [==============================] - 40s 94ms/step - loss: 0.0904 - accuracy: 0.9715 - val_loss: 0.0504 - val_accuracy: 0.9853\n",
            "Epoch 4/15\n",
            "422/422 [==============================] - 39s 93ms/step - loss: 0.0775 - accuracy: 0.9756 - val_loss: 0.0429 - val_accuracy: 0.9877\n",
            "Epoch 5/15\n",
            "422/422 [==============================] - 39s 93ms/step - loss: 0.0663 - accuracy: 0.9793 - val_loss: 0.0388 - val_accuracy: 0.9888\n",
            "Epoch 6/15\n",
            "422/422 [==============================] - 38s 91ms/step - loss: 0.0616 - accuracy: 0.9806 - val_loss: 0.0397 - val_accuracy: 0.9895\n",
            "Epoch 7/15\n",
            "422/422 [==============================] - 39s 92ms/step - loss: 0.0568 - accuracy: 0.9827 - val_loss: 0.0369 - val_accuracy: 0.9880\n",
            "Epoch 8/15\n",
            "422/422 [==============================] - 39s 93ms/step - loss: 0.0512 - accuracy: 0.9831 - val_loss: 0.0332 - val_accuracy: 0.9923\n",
            "Epoch 9/15\n",
            "422/422 [==============================] - 39s 93ms/step - loss: 0.0476 - accuracy: 0.9848 - val_loss: 0.0337 - val_accuracy: 0.9903\n",
            "Epoch 10/15\n",
            "422/422 [==============================] - 40s 94ms/step - loss: 0.0464 - accuracy: 0.9854 - val_loss: 0.0301 - val_accuracy: 0.9912\n",
            "Epoch 11/15\n",
            "422/422 [==============================] - 39s 92ms/step - loss: 0.0426 - accuracy: 0.9865 - val_loss: 0.0298 - val_accuracy: 0.9925\n",
            "Epoch 12/15\n",
            "422/422 [==============================] - 39s 93ms/step - loss: 0.0417 - accuracy: 0.9866 - val_loss: 0.0285 - val_accuracy: 0.9923\n",
            "Epoch 13/15\n",
            "422/422 [==============================] - 39s 93ms/step - loss: 0.0401 - accuracy: 0.9871 - val_loss: 0.0289 - val_accuracy: 0.9905\n",
            "Epoch 14/15\n",
            "422/422 [==============================] - 38s 91ms/step - loss: 0.0372 - accuracy: 0.9878 - val_loss: 0.0315 - val_accuracy: 0.9907\n",
            "Epoch 15/15\n",
            "422/422 [==============================] - 39s 93ms/step - loss: 0.0361 - accuracy: 0.9879 - val_loss: 0.0295 - val_accuracy: 0.9922\n"
          ],
          "name": "stdout"
        },
        {
          "output_type": "execute_result",
          "data": {
            "text/plain": [
              "<tensorflow.python.keras.callbacks.History at 0x7fecee429630>"
            ]
          },
          "metadata": {
            "tags": []
          },
          "execution_count": 5
        }
      ]
    },
    {
      "cell_type": "markdown",
      "metadata": {
        "colab_type": "text",
        "id": "fcKGOuCtP4Mg"
      },
      "source": [
        "## Evaluate the trained model"
      ]
    },
    {
      "cell_type": "code",
      "metadata": {
        "colab_type": "code",
        "id": "yYdZYTsLP4Mh",
        "colab": {
          "base_uri": "https://localhost:8080/",
          "height": 51
        },
        "outputId": "7bf0136d-ebb9-47cc-d5b4-c091d52f260b"
      },
      "source": [
        "\n",
        "score = model.evaluate(x_test, y_test, verbose=0)\n",
        "print(\"Test loss:\", score[0])\n",
        "print(\"Test accuracy:\", score[1])\n"
      ],
      "execution_count": null,
      "outputs": [
        {
          "output_type": "stream",
          "text": [
            "Test loss: 0.02609650045633316\n",
            "Test accuracy: 0.991100013256073\n"
          ],
          "name": "stdout"
        }
      ]
    },
    {
      "cell_type": "markdown",
      "metadata": {
        "id": "g6uL9IUmQHtr",
        "colab_type": "text"
      },
      "source": [
        "# New Section"
      ]
    }
  ]
}